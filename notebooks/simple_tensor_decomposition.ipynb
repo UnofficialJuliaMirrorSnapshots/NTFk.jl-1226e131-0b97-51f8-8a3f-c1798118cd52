{
 "cells": [
  {
   "cell_type": "markdown",
   "metadata": {},
   "source": [
    "A simple problem demonstrating **NTFk** can be executed as follows.\n",
    "\n",
    "First, generate a random Tucker tensor:"
   ]
  },
  {
   "cell_type": "code",
   "execution_count": 2,
   "metadata": {},
   "outputs": [
    {
     "name": "stderr",
     "output_type": "stream",
     "text": [
      "┌ Info: Precompiling NTFk [1226e131-0b97-51f8-8a3f-c1798118cd52]\n",
      "└ @ Base loading.jl:1242\n",
      "┌ Warning: The call to compilecache failed to create a usable precompiled cache file for Colors [5ae59095-9a9b-59fe-a467-6f913c188581]\n",
      "│   exception = Required dependency ColorTypes [3da002f7-5984-5a60-b8a6-cbb66c0b333f] failed to load from a cache file.\n",
      "└ @ Base loading.jl:1025\n",
      "┌ Warning: The call to compilecache failed to create a usable precompiled cache file for PyPlot [d330b81b-6aea-500a-939a-2ce795aea3ee]\n",
      "│   exception = Required dependency ColorTypes [3da002f7-5984-5a60-b8a6-cbb66c0b333f] failed to load from a cache file.\n",
      "└ @ Base loading.jl:1025\n",
      "ERROR: LoadError: FFTW is not properly installed. Please run Pkg.build(\"FFTW\") and restart Julia.\n",
      "Stacktrace:\n",
      " [1] error(::String, ::String) at ./error.jl:42\n",
      " [2] top-level scope at /Users/monty/.julia/packages/FFTW/MJ7kl/src/FFTW.jl:21\n",
      " [3] include at ./boot.jl:328 [inlined]\n",
      " [4] include_relative(::Module, ::String) at ./loading.jl:1094\n",
      " [5] include(::Module, ::String) at ./Base.jl:31\n",
      " [6] top-level scope at none:2\n",
      " [7] eval at ./boot.jl:330 [inlined]\n",
      " [8] eval(::Expr) at ./client.jl:432\n",
      " [9] top-level scope at ./none:3\n",
      "in expression starting at /Users/monty/.julia/packages/FFTW/MJ7kl/src/FFTW.jl:18\n",
      "ERROR: LoadError: Failed to precompile FFTW [7a1cc6ca-52ef-59f5-83cd-3a7055c09341] to /Users/monty/.julia/compiled/v1.2/FFTW/PvIn2.ji.\n",
      "Stacktrace:\n",
      " [1] error(::String) at ./error.jl:33\n",
      " [2] compilecache(::Base.PkgId, ::String) at ./loading.jl:1253\n",
      " [3] _require(::Base.PkgId) at ./loading.jl:1013\n",
      " [4] require(::Base.PkgId) at ./loading.jl:911\n",
      " [5] require(::Module, ::Symbol) at ./loading.jl:906\n",
      " [6] include at ./boot.jl:328 [inlined]\n",
      " [7] include_relative(::Module, ::String) at ./loading.jl:1094\n",
      " [8] include(::Module, ::String) at ./Base.jl:31\n",
      " [9] top-level scope at none:2\n",
      " [10] eval at ./boot.jl:330 [inlined]\n",
      " [11] eval(::Expr) at ./client.jl:432\n",
      " [12] top-level scope at ./none:3\n",
      "in expression starting at /Users/monty/.julia/packages/KernelDensity/FYY3d/src/KernelDensity.jl:10\n",
      "ERROR: LoadError: LoadError: Failed to precompile KernelDensity [5ab0869b-81aa-558d-bb23-cbf5423bbe9b] to /Users/monty/.julia/compiled/v1.2/KernelDensity/4QyGx.ji.\n",
      "Stacktrace:\n",
      " [1] error(::String) at ./error.jl:33\n",
      " [2] compilecache(::Base.PkgId, ::String) at ./loading.jl:1253\n",
      " [3] _require(::Base.PkgId) at ./loading.jl:1013\n",
      " [4] require(::Base.PkgId) at ./loading.jl:911\n",
      " [5] require(::Module, ::Symbol) at ./loading.jl:906\n",
      " [6] include at ./boot.jl:328 [inlined]\n",
      " [7] include_relative(::Module, ::String) at ./loading.jl:1094\n",
      " [8] include at ./Base.jl:31 [inlined]\n",
      " [9] include(::String) at /Users/monty/.julia/packages/Gadfly/09PWZ/src/Gadfly.jl:1\n",
      " [10] top-level scope at /Users/monty/.julia/packages/Gadfly/09PWZ/src/Gadfly.jl:1107\n",
      " [11] include at ./boot.jl:328 [inlined]\n",
      " [12] include_relative(::Module, ::String) at ./loading.jl:1094\n",
      " [13] include(::Module, ::String) at ./Base.jl:31\n",
      " [14] top-level scope at none:2\n",
      " [15] eval at ./boot.jl:330 [inlined]\n",
      " [16] eval(::Expr) at ./client.jl:432\n",
      " [17] top-level scope at ./none:3\n",
      "in expression starting at /Users/monty/.julia/packages/Gadfly/09PWZ/src/statistics.jl:21\n",
      "in expression starting at /Users/monty/.julia/packages/Gadfly/09PWZ/src/Gadfly.jl:1107\n",
      "ERROR: LoadError: LoadError: Failed to precompile Gadfly [c91e804a-d5a3-530f-b6f0-dfbca275c004] to /Users/monty/.julia/compiled/v1.2/Gadfly/DvECm.ji.\n",
      "Stacktrace:\n",
      " [1] error(::String) at ./error.jl:33\n",
      " [2] compilecache(::Base.PkgId, ::String) at ./loading.jl:1253\n",
      " [3] _require(::Base.PkgId) at ./loading.jl:1013\n",
      " [4] require(::Base.PkgId) at ./loading.jl:911\n",
      " [5] require(::Module, ::Symbol) at ./loading.jl:906\n",
      " [6] include at ./boot.jl:328 [inlined]\n",
      " [7] include_relative(::Module, ::String) at ./loading.jl:1094\n",
      " [8] include at ./Base.jl:31 [inlined]\n",
      " [9] include(::String) at /Users/monty/.julia/packages/NMFk/XFGsB/src/NMFk.jl:13\n",
      " [10] top-level scope at /Users/monty/.julia/packages/NMFk/XFGsB/src/NMFk.jl:58\n",
      " [11] include at ./boot.jl:328 [inlined]\n",
      " [12] include_relative(::Module, ::String) at ./loading.jl:1094\n",
      " [13] include(::Module, ::String) at ./Base.jl:31\n",
      " [14] top-level scope at none:2\n",
      " [15] eval at ./boot.jl:330 [inlined]\n",
      " [16] eval(::Expr) at ./client.jl:432\n",
      " [17] top-level scope at ./none:3\n",
      "in expression starting at /Users/monty/.julia/packages/NMFk/XFGsB/src/NMFkPlot.jl:2\n",
      "in expression starting at /Users/monty/.julia/packages/NMFk/XFGsB/src/NMFk.jl:58\n",
      "ERROR: LoadError: Failed to precompile NMFk [e40cd9e2-a1df-5d90-a1fa-603fdc3dbdd8] to /Users/monty/.julia/compiled/v1.2/NMFk/Ywuhu.ji.\n",
      "Stacktrace:\n",
      " [1] error(::String) at ./error.jl:33\n",
      " [2] compilecache(::Base.PkgId, ::String) at ./loading.jl:1253\n",
      " [3] _require(::Base.PkgId) at ./loading.jl:1013\n",
      " [4] require(::Base.PkgId) at ./loading.jl:911\n",
      " [5] require(::Module, ::Symbol) at ./loading.jl:906\n",
      " [6] include at ./boot.jl:328 [inlined]\n",
      " [7] include_relative(::Module, ::String) at ./loading.jl:1094\n",
      " [8] include(::Module, ::String) at ./Base.jl:31\n",
      " [9] top-level scope at none:2\n",
      " [10] eval at ./boot.jl:330 [inlined]\n",
      " [11] eval(::Expr) at ./client.jl:432\n",
      " [12] top-level scope at ./none:3\n",
      "in expression starting at /Users/monty/.julia/dev/NTFk/src/NTFk.jl:33\n"
     ]
    },
    {
     "ename": "ErrorException",
     "evalue": "Failed to precompile NTFk [1226e131-0b97-51f8-8a3f-c1798118cd52] to /Users/monty/.julia/compiled/v1.2/NTFk/BitEf.ji.",
     "output_type": "error",
     "traceback": [
      "Failed to precompile NTFk [1226e131-0b97-51f8-8a3f-c1798118cd52] to /Users/monty/.julia/compiled/v1.2/NTFk/BitEf.ji.",
      "",
      "Stacktrace:",
      " [1] error(::String) at ./error.jl:33",
      " [2] compilecache(::Base.PkgId, ::String) at ./loading.jl:1253",
      " [3] _require(::Base.PkgId) at ./loading.jl:1013",
      " [4] require(::Base.PkgId) at ./loading.jl:911",
      " [5] require(::Module, ::Symbol) at ./loading.jl:906",
      " [6] top-level scope at In[2]:1"
     ]
    }
   ],
   "source": [
    "import NTFk\n",
    "import TensorDecompositions\n",
    "\n",
    "csize = (2, 3, 4)\n",
    "tsize = (5, 10, 15)\n",
    "tucker_orig = NTFk.rand_tucker(csize, tsize; factors_nonneg=true, core_nonneg=true)"
   ]
  },
  {
   "cell_type": "code",
   "execution_count": null,
   "metadata": {},
   "outputs": [],
   "source": []
  },
  {
   "cell_type": "code",
   "execution_count": null,
   "metadata": {},
   "outputs": [],
   "source": [
    "tucker_orig = NTFk.rand_tucker(csize, tsize; factors_nonneg=true, core_nonneg=true)"
   ]
  },
  {
   "cell_type": "code",
   "execution_count": null,
   "metadata": {},
   "outputs": [],
   "source": []
  }
 ],
 "metadata": {
  "@webio": {
   "lastCommId": null,
   "lastKernelId": null
  },
  "kernelspec": {
   "display_name": "Julia 1.2.0",
   "language": "julia",
   "name": "julia-1.2"
  },
  "language_info": {
   "file_extension": ".jl",
   "mimetype": "application/julia",
   "name": "julia",
   "version": "1.2.0"
  }
 },
 "nbformat": 4,
 "nbformat_minor": 2
}
